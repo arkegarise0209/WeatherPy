{
 "cells": [
  {
   "cell_type": "code",
   "execution_count": 1,
   "metadata": {},
   "outputs": [
    {
     "name": "stdout",
     "output_type": "stream",
     "text": [
      "Requirement already satisfied: citipy in c:\\users\\austi\\anaconda3\\lib\\site-packages\n",
      "Requirement already satisfied: kdtree>=0.12 in c:\\users\\austi\\anaconda3\\lib\\site-packages (from citipy)\n"
     ]
    },
    {
     "name": "stderr",
     "output_type": "stream",
     "text": [
      "You are using pip version 9.0.1, however version 9.0.3 is available.\n",
      "You should consider upgrading via the 'python -m pip install --upgrade pip' command.\n"
     ]
    }
   ],
   "source": [
    "!pip install citipy\n",
    "\n",
    "#Dependencies\n",
    "import pandas as pd\n",
    "import numpy as np\n",
    "import seaborn as sns\n",
    "import matplotlib.pyplot as plt\n",
    "import requests\n",
    "from citipy import citipy\n",
    "from pprint import pprint\n",
    "\n",
    "#Import API key for OpenWeatherMapy\n",
    "from config import owm_key"
   ]
  },
  {
   "cell_type": "markdown",
   "metadata": {},
   "source": [
    "### Generate Cities List"
   ]
  },
  {
   "cell_type": "code",
   "execution_count": 2,
   "metadata": {},
   "outputs": [
    {
     "data": {
      "text/plain": [
       "610"
      ]
     },
     "execution_count": 2,
     "metadata": {},
     "output_type": "execute_result"
    }
   ],
   "source": [
    "#Generate random latitudes and longitudes (1000 random coordinates)\n",
    "lat = np.random.uniform(low=-90, high=90, size=1500)\n",
    "lng = np.random.uniform(low=-180, high=180, size=1500)\n",
    "\n",
    "#Create coordinates (lat, lng)\n",
    "coordinates = []\n",
    "for each in range (0, len(lat)):\n",
    "    coordinates.append((lat[each], lng[each]))\n",
    "\n",
    "#Find cities nearest to the coordinates\n",
    "cities = []\n",
    "for each_coordinate in coordinates:\n",
    "    lat, lng = each_coordinate\n",
    "    cities.append(citipy.nearest_city(lat, lng))\n",
    "\n",
    "#Create DataFrame\n",
    "cities_df = pd.DataFrame(cities)\n",
    "cities_df[\"City\"] = \"\"\n",
    "cities_df[\"Country\"] = \"\"\n",
    "\n",
    "#Grab city name and country code for each coordinate\n",
    "for index, row in cities_df.iterrows():\n",
    "    row[\"City\"] = cities_df.iloc[index,0].city_name\n",
    "    row[\"Country\"] = cities_df.iloc[index,0].country_code\n",
    "\n",
    "#Drop duplicate cities\n",
    "cities_df.drop_duplicates([\"City\", \"Country\"], inplace=True)\n",
    "cities_df.reset_index(inplace=True)\n",
    "\n",
    "del cities_df[0]\n",
    "del cities_df[\"index\"]\n",
    "len(cities_df)"
   ]
  },
  {
   "cell_type": "code",
   "execution_count": null,
   "metadata": {
    "collapsed": true
   },
   "outputs": [],
   "source": []
  }
 ],
 "metadata": {
  "kernelspec": {
   "display_name": "Python 3",
   "language": "python",
   "name": "python3"
  },
  "language_info": {
   "codemirror_mode": {
    "name": "ipython",
    "version": 3
   },
   "file_extension": ".py",
   "mimetype": "text/x-python",
   "name": "python",
   "nbconvert_exporter": "python",
   "pygments_lexer": "ipython3",
   "version": "3.6.3"
  }
 },
 "nbformat": 4,
 "nbformat_minor": 2
}
